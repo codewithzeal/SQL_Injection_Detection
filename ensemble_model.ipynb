{
 "cells": [
  {
   "cell_type": "code",
   "execution_count": 1,
   "id": "84c0615a-fde0-4b10-9421-447eca3455f2",
   "metadata": {},
   "outputs": [
    {
     "name": "stderr",
     "output_type": "stream",
     "text": [
      "[nltk_data] Downloading package punkt to\n",
      "[nltk_data]     C:\\Users\\HP\\AppData\\Roaming\\nltk_data...\n",
      "[nltk_data]   Package punkt is already up-to-date!\n",
      "[nltk_data] Downloading package stopwords to\n",
      "[nltk_data]     C:\\Users\\HP\\AppData\\Roaming\\nltk_data...\n",
      "[nltk_data]   Package stopwords is already up-to-date!\n",
      "[nltk_data] Downloading package wordnet to\n",
      "[nltk_data]     C:\\Users\\HP\\AppData\\Roaming\\nltk_data...\n",
      "[nltk_data]   Package wordnet is already up-to-date!\n"
     ]
    }
   ],
   "source": [
    "import glob\n",
    "import time\n",
    "from nltk import ngrams\n",
    "from nltk.tokenize import sent_tokenize\n",
    "import nltk\n",
    "nltk.download('punkt')\n",
    "nltk.download('stopwords')\n",
    "nltk.download('wordnet')\n",
    "from nltk.stem import PorterStemmer\n",
    "from nltk.stem import PorterStemmer\n",
    "from nltk.tokenize import sent_tokenize, word_tokenize\n",
    "from nltk.stem import WordNetLemmatizer\n",
    "from nltk.corpus import stopwords \n",
    "from nltk.tokenize import word_tokenize\n",
    "import pandas as pd\n",
    "from sklearn.model_selection import train_test_split\n",
    "from sklearn.metrics import mean_squared_error\n",
    "# importing machine learning models for prediction\n",
    "from sklearn.ensemble import RandomForestRegressor\n",
    "import xgboost as xgb\n",
    "from sklearn.linear_model import LinearRegression\n",
    "from sklearn.linear_model import LogisticRegression\n",
    "from sklearn.ensemble import VotingClassifier\n",
    "from vecstack import stacking\n",
    "from xgboost import XGBClassifier\n",
    "from sklearn.ensemble import RandomForestClassifier\n",
    "from sklearn.naive_bayes import GaussianNB\n",
    "from sklearn.svm import SVC\n",
    "from sklearn.neighbors import KNeighborsClassifier\n",
    "import tensorflow as tf\n",
    "from sklearn.ensemble import GradientBoostingClassifier"
   ]
  },
  {
   "cell_type": "code",
   "execution_count": 2,
   "id": "4c896218-d5af-454c-85ed-ecaeb94d63c0",
   "metadata": {},
   "outputs": [
    {
     "data": {
      "text/plain": [
       "(33761, 2)"
      ]
     },
     "execution_count": 2,
     "metadata": {},
     "output_type": "execute_result"
    }
   ],
   "source": [
    "import pandas as pd\n",
    "df=pd.read_csv('sqliv2.csv',encoding='UTF16')\n",
    "df=df.dropna(subset=['Label'])\n",
    "df.shape"
   ]
  },
  {
   "cell_type": "code",
   "execution_count": 3,
   "id": "42c709f3-ca65-46f5-aed7-05a1c6bf7c64",
   "metadata": {},
   "outputs": [
    {
     "data": {
      "text/html": [
       "<div>\n",
       "<style scoped>\n",
       "    .dataframe tbody tr th:only-of-type {\n",
       "        vertical-align: middle;\n",
       "    }\n",
       "\n",
       "    .dataframe tbody tr th {\n",
       "        vertical-align: top;\n",
       "    }\n",
       "\n",
       "    .dataframe thead th {\n",
       "        text-align: right;\n",
       "    }\n",
       "</style>\n",
       "<table border=\"1\" class=\"dataframe\">\n",
       "  <thead>\n",
       "    <tr style=\"text-align: right;\">\n",
       "      <th></th>\n",
       "      <th>Sentence</th>\n",
       "      <th>Label</th>\n",
       "    </tr>\n",
       "  </thead>\n",
       "  <tbody>\n",
       "    <tr>\n",
       "      <th>33751</th>\n",
       "      <td>gorin.mccracken@evelin.am</td>\n",
       "      <td>0</td>\n",
       "    </tr>\n",
       "    <tr>\n",
       "      <th>33752</th>\n",
       "      <td>terrateig</td>\n",
       "      <td>0</td>\n",
       "    </tr>\n",
       "    <tr>\n",
       "      <th>33753</th>\n",
       "      <td>24220</td>\n",
       "      <td>0</td>\n",
       "    </tr>\n",
       "    <tr>\n",
       "      <th>33754</th>\n",
       "      <td>41</td>\n",
       "      <td>0</td>\n",
       "    </tr>\n",
       "    <tr>\n",
       "      <th>33755</th>\n",
       "      <td>yeti llamus</td>\n",
       "      <td>0</td>\n",
       "    </tr>\n",
       "    <tr>\n",
       "      <th>33756</th>\n",
       "      <td>syrett</td>\n",
       "      <td>0</td>\n",
       "    </tr>\n",
       "    <tr>\n",
       "      <th>33757</th>\n",
       "      <td>arrechea bellveh</td>\n",
       "      <td>0</td>\n",
       "    </tr>\n",
       "    <tr>\n",
       "      <th>33758</th>\n",
       "      <td>1664</td>\n",
       "      <td>0</td>\n",
       "    </tr>\n",
       "    <tr>\n",
       "      <th>33759</th>\n",
       "      <td>almaluez</td>\n",
       "      <td>0</td>\n",
       "    </tr>\n",
       "    <tr>\n",
       "      <th>33760</th>\n",
       "      <td>f6lo40r06</td>\n",
       "      <td>0</td>\n",
       "    </tr>\n",
       "  </tbody>\n",
       "</table>\n",
       "</div>"
      ],
      "text/plain": [
       "                        Sentence  Label\n",
       "33751  gorin.mccracken@evelin.am      0\n",
       "33752                  terrateig      0\n",
       "33753                      24220      0\n",
       "33754                         41      0\n",
       "33755                yeti llamus      0\n",
       "33756                     syrett      0\n",
       "33757           arrechea bellveh      0\n",
       "33758                       1664      0\n",
       "33759                   almaluez      0\n",
       "33760                  f6lo40r06      0"
      ]
     },
     "execution_count": 3,
     "metadata": {},
     "output_type": "execute_result"
    }
   ],
   "source": [
    "df.tail(10)"
   ]
  },
  {
   "cell_type": "code",
   "execution_count": 4,
   "id": "f4bd861c-d023-4a9a-8bfa-91f95007de82",
   "metadata": {},
   "outputs": [
    {
     "data": {
      "text/html": [
       "<div>\n",
       "<style scoped>\n",
       "    .dataframe tbody tr th:only-of-type {\n",
       "        vertical-align: middle;\n",
       "    }\n",
       "\n",
       "    .dataframe tbody tr th {\n",
       "        vertical-align: top;\n",
       "    }\n",
       "\n",
       "    .dataframe thead th {\n",
       "        text-align: right;\n",
       "    }\n",
       "</style>\n",
       "<table border=\"1\" class=\"dataframe\">\n",
       "  <thead>\n",
       "    <tr style=\"text-align: right;\">\n",
       "      <th></th>\n",
       "      <th>Sentence</th>\n",
       "      <th>Label</th>\n",
       "    </tr>\n",
       "  </thead>\n",
       "  <tbody>\n",
       "    <tr>\n",
       "      <th>0</th>\n",
       "      <td>NaN</td>\n",
       "      <td>1</td>\n",
       "    </tr>\n",
       "    <tr>\n",
       "      <th>1</th>\n",
       "      <td>\" or pg_sleep ( __TIME__ ) --</td>\n",
       "      <td>1</td>\n",
       "    </tr>\n",
       "    <tr>\n",
       "      <th>2</th>\n",
       "      <td>create user name identified by pass123 tempora...</td>\n",
       "      <td>1</td>\n",
       "    </tr>\n",
       "    <tr>\n",
       "      <th>3</th>\n",
       "      <td>%29</td>\n",
       "      <td>1</td>\n",
       "    </tr>\n",
       "    <tr>\n",
       "      <th>4</th>\n",
       "      <td>' AND 1 = utl_inaddr.get_host_address  (  (  S...</td>\n",
       "      <td>1</td>\n",
       "    </tr>\n",
       "    <tr>\n",
       "      <th>5</th>\n",
       "      <td>select * from users where id = '1' or @ @1 = ...</td>\n",
       "      <td>1</td>\n",
       "    </tr>\n",
       "    <tr>\n",
       "      <th>6</th>\n",
       "      <td>select * from users where id = 1 or 1#\" (  un...</td>\n",
       "      <td>1</td>\n",
       "    </tr>\n",
       "    <tr>\n",
       "      <th>7</th>\n",
       "      <td>' select name from syscolumns where id  =   ( ...</td>\n",
       "      <td>1</td>\n",
       "    </tr>\n",
       "    <tr>\n",
       "      <th>8</th>\n",
       "      <td>select * from users where id = 1 +$+ or 1 = 1...</td>\n",
       "      <td>1</td>\n",
       "    </tr>\n",
       "    <tr>\n",
       "      <th>9</th>\n",
       "      <td>1; ( load_file ( char ( 47,101,116,99,47,112,9...</td>\n",
       "      <td>1</td>\n",
       "    </tr>\n",
       "  </tbody>\n",
       "</table>\n",
       "</div>"
      ],
      "text/plain": [
       "                                            Sentence  Label\n",
       "0                                                NaN      1\n",
       "1                      \" or pg_sleep ( __TIME__ ) --      1\n",
       "2  create user name identified by pass123 tempora...      1\n",
       "3                                                %29      1\n",
       "4  ' AND 1 = utl_inaddr.get_host_address  (  (  S...      1\n",
       "5   select * from users where id = '1' or @ @1 = ...      1\n",
       "6   select * from users where id = 1 or 1#\" (  un...      1\n",
       "7  ' select name from syscolumns where id  =   ( ...      1\n",
       "8   select * from users where id = 1 +$+ or 1 = 1...      1\n",
       "9  1; ( load_file ( char ( 47,101,116,99,47,112,9...      1"
      ]
     },
     "execution_count": 4,
     "metadata": {},
     "output_type": "execute_result"
    }
   ],
   "source": [
    "df.head(10)"
   ]
  },
  {
   "cell_type": "code",
   "execution_count": 5,
   "id": "7aaeb330-82b7-46dc-a815-68e30f61cd38",
   "metadata": {},
   "outputs": [
    {
     "data": {
      "text/plain": [
       "22305"
      ]
     },
     "execution_count": 5,
     "metadata": {},
     "output_type": "execute_result"
    }
   ],
   "source": [
    "df[df['Label']==0]['Label'].count()"
   ]
  },
  {
   "cell_type": "code",
   "execution_count": 6,
   "id": "338b709b-1266-48c6-8236-ca1c13708748",
   "metadata": {},
   "outputs": [
    {
     "data": {
      "text/plain": [
       "11456"
      ]
     },
     "execution_count": 6,
     "metadata": {},
     "output_type": "execute_result"
    }
   ],
   "source": [
    "33761-22305"
   ]
  },
  {
   "cell_type": "code",
   "execution_count": 7,
   "id": "2e4a7e8d-f348-42c0-8c15-b3e23b15ca36",
   "metadata": {},
   "outputs": [],
   "source": [
    "# vectorization of data\n",
    "\n",
    "from sklearn.feature_extraction.text import CountVectorizer\n",
    "vectorizer = CountVectorizer( min_df=2, max_df=0.7, max_features=4096, stop_words=stopwords.words('english'))\n",
    "posts = vectorizer.fit_transform(df['Sentence'].values.astype('U')).toarray()\n",
    "\n"
   ]
  },
  {
   "cell_type": "code",
   "execution_count": 8,
   "id": "cbe1ef12-099d-44dc-8333-7e2f716fbabd",
   "metadata": {},
   "outputs": [
    {
     "data": {
      "text/plain": [
       "(33761, 4096)"
      ]
     },
     "execution_count": 8,
     "metadata": {},
     "output_type": "execute_result"
    }
   ],
   "source": [
    "posts.shape"
   ]
  },
  {
   "cell_type": "code",
   "execution_count": 9,
   "id": "d550ea85-804a-4721-9a98-e2b2d275ca9b",
   "metadata": {},
   "outputs": [],
   "source": [
    "posts.shape=(33761,64,64,1)"
   ]
  },
  {
   "cell_type": "code",
   "execution_count": 10,
   "id": "e3b44287-b23a-4835-afc2-98568c72a432",
   "metadata": {},
   "outputs": [
    {
     "data": {
      "text/plain": [
       "(33761, 64, 64, 1)"
      ]
     },
     "execution_count": 10,
     "metadata": {},
     "output_type": "execute_result"
    }
   ],
   "source": [
    "posts.shape"
   ]
  },
  {
   "cell_type": "code",
   "execution_count": 11,
   "id": "95292683-4da1-42c2-871d-82a85141f616",
   "metadata": {},
   "outputs": [],
   "source": [
    "X=posts"
   ]
  },
  {
   "cell_type": "code",
   "execution_count": 12,
   "id": "fcba7f12-4d42-4f47-a188-31b3e43a95f2",
   "metadata": {},
   "outputs": [],
   "source": [
    "y=df['Label']"
   ]
  },
  {
   "cell_type": "code",
   "execution_count": 13,
   "id": "0735d913-e19b-4b4a-a2d7-f90a7afe5486",
   "metadata": {},
   "outputs": [],
   "source": [
    "from sklearn.model_selection import train_test_split"
   ]
  },
  {
   "cell_type": "code",
   "execution_count": 14,
   "id": "f76fc67d-c661-4fb4-a974-2e22d7a879a7",
   "metadata": {},
   "outputs": [],
   "source": [
    "# split train test data\n",
    "\n",
    "X_train, X_test, y_train, y_test = train_test_split(X, y, test_size=0.2, random_state=42)"
   ]
  },
  {
   "cell_type": "code",
   "execution_count": 15,
   "id": "85e50c66-421e-44ad-873f-53bfb58b4fd4",
   "metadata": {},
   "outputs": [],
   "source": [
    "trainX=X_train.copy()\n",
    "trainX.shape=(X_train.shape[0],trainX.shape[1]*trainX.shape[2])\n",
    "testX=X_test.copy()\n",
    "testX.shape=(testX.shape[0],testX.shape[1]*testX.shape[2])\n"
   ]
  },
  {
   "cell_type": "code",
   "execution_count": 55,
   "id": "1b6273a4-168d-4406-affc-8c9dc99458f5",
   "metadata": {},
   "outputs": [],
   "source": [
    "model_1 = LogisticRegression()\n",
    "model_2 = XGBClassifier()\n",
    "model_3 = RandomForestClassifier()\n",
    "model_4 = GaussianNB()\n",
    "model_5 = SVC(gamma='auto')\n",
    "model_6 = KNeighborsClassifier(n_neighbors=3)\n",
    "model_7=GradientBoostingClassifier(n_estimators=100, learning_rate=1.0,max_depth=1, random_state=0)"
   ]
  },
  {
   "cell_type": "code",
   "execution_count": 60,
   "id": "151bc339-d192-4efe-9995-1309ddddb044",
   "metadata": {},
   "outputs": [
    {
     "data": {
      "text/plain": [
       "GaussianNB()"
      ]
     },
     "execution_count": 60,
     "metadata": {},
     "output_type": "execute_result"
    }
   ],
   "source": [
    "model_4.fit(trainX,y_train)"
   ]
  },
  {
   "cell_type": "code",
   "execution_count": 61,
   "id": "238465ff-e1f2-4261-b9a9-8f3146666940",
   "metadata": {},
   "outputs": [
    {
     "data": {
      "text/plain": [
       "KNeighborsClassifier(n_neighbors=3)"
      ]
     },
     "execution_count": 61,
     "metadata": {},
     "output_type": "execute_result"
    }
   ],
   "source": [
    "model_6.fit(trainX,y_train)"
   ]
  },
  {
   "cell_type": "code",
   "execution_count": 62,
   "id": "3d289ecc-222a-4f20-b78d-fcc72db27612",
   "metadata": {},
   "outputs": [
    {
     "data": {
      "text/plain": [
       "LogisticRegression()"
      ]
     },
     "execution_count": 62,
     "metadata": {},
     "output_type": "execute_result"
    }
   ],
   "source": [
    "model_1.fit(trainX,y_train)"
   ]
  },
  {
   "cell_type": "code",
   "execution_count": 56,
   "id": "0a01f56a-987a-4b12-bf82-13d0fd82dc51",
   "metadata": {},
   "outputs": [
    {
     "data": {
      "text/plain": [
       "GradientBoostingClassifier(learning_rate=1.0, max_depth=1, random_state=0)"
      ]
     },
     "execution_count": 56,
     "metadata": {},
     "output_type": "execute_result"
    }
   ],
   "source": [
    "model_7.fit(trainX,y_train)"
   ]
  },
  {
   "cell_type": "code",
   "execution_count": 63,
   "id": "be66ffbb-aaa0-4aa0-a792-a31c2ac3871e",
   "metadata": {},
   "outputs": [],
   "source": [
    "pred1=model_4.predict(testX)"
   ]
  },
  {
   "cell_type": "code",
   "execution_count": 64,
   "id": "31fff867-a10f-4385-9db0-516d9a7e41d3",
   "metadata": {},
   "outputs": [],
   "source": [
    "pred2=model_6.predict(testX)"
   ]
  },
  {
   "cell_type": "code",
   "execution_count": 65,
   "id": "28d3e149-017a-4164-b7c4-d8d3ff60e3d4",
   "metadata": {},
   "outputs": [],
   "source": [
    "pred3=model_1.predict(testX)"
   ]
  },
  {
   "cell_type": "code",
   "execution_count": 57,
   "id": "495c9f1b-655c-4e16-ac7d-e8d44b05dbc4",
   "metadata": {},
   "outputs": [],
   "source": [
    "pred4=model_7.predict(testX)"
   ]
  },
  {
   "cell_type": "code",
   "execution_count": 66,
   "id": "246151cf-efb7-4389-b9aa-47ed15cff1ad",
   "metadata": {},
   "outputs": [],
   "source": [
    "final_model = VotingClassifier(\n",
    "    estimators=[('lr',model_1),('gnb', model_4),('knn', model_6)], voting='hard')"
   ]
  },
  {
   "cell_type": "code",
   "execution_count": 67,
   "id": "e0996b53-38cf-4dfc-a375-26a2cace44b0",
   "metadata": {},
   "outputs": [
    {
     "data": {
      "text/plain": [
       "VotingClassifier(estimators=[('lr', LogisticRegression()),\n",
       "                             ('gnb', GaussianNB()),\n",
       "                             ('knn', KNeighborsClassifier(n_neighbors=3))])"
      ]
     },
     "execution_count": 67,
     "metadata": {},
     "output_type": "execute_result"
    }
   ],
   "source": [
    "final_model.fit(trainX,y_train)"
   ]
  },
  {
   "cell_type": "code",
   "execution_count": 68,
   "id": "2ae2dd5a-fe88-4fac-87c4-7f971eac4197",
   "metadata": {},
   "outputs": [],
   "source": [
    "pred_final = final_model.predict(testX)"
   ]
  },
  {
   "cell_type": "code",
   "execution_count": 44,
   "id": "39a4f098-7679-4226-8550-98986b5fbb5b",
   "metadata": {},
   "outputs": [],
   "source": [
    "import pickle\n",
    "filename = 'finalized_model.sav'\n",
    "pickle.dump(final_model, open(filename, 'wb'))"
   ]
  },
  {
   "cell_type": "code",
   "execution_count": 45,
   "id": "e04c851e-c81b-4931-8b6b-4bd2e336134d",
   "metadata": {},
   "outputs": [],
   "source": [
    "def accuracy_function(tp,tn,fp,fn):\n",
    "    \n",
    "    accuracy = (tp+tn) / (tp+tn+fp+fn)\n",
    "    \n",
    "    return accuracy"
   ]
  },
  {
   "cell_type": "code",
   "execution_count": 46,
   "id": "3ca9351e-5637-4bc9-b24c-288e5f2a8ddf",
   "metadata": {},
   "outputs": [],
   "source": [
    "def precision_function(tp,fp):\n",
    "    \n",
    "    precision = tp / (tp+fp)\n",
    "    \n",
    "    return precision"
   ]
  },
  {
   "cell_type": "code",
   "execution_count": 47,
   "id": "c67c505f-defc-4e54-8fb1-a0aaa51dd6b7",
   "metadata": {},
   "outputs": [],
   "source": [
    "def recall_function(tp,fn):\n",
    "    \n",
    "    recall=tp / (tp+fn)\n",
    "    \n",
    "    return recall"
   ]
  },
  {
   "cell_type": "code",
   "execution_count": 48,
   "id": "51fa808f-c54c-4e86-adb9-0fce27d43e89",
   "metadata": {},
   "outputs": [],
   "source": [
    "def confusion_matrix(truth,predicted):\n",
    "    \n",
    "    true_positive = 0\n",
    "    true_negative = 0\n",
    "    false_positive = 0\n",
    "    false_negative = 0\n",
    "    \n",
    "    for true,pred in zip(truth,predicted):\n",
    "        \n",
    "        if true == 1:\n",
    "            if pred == true:\n",
    "                true_positive += 1\n",
    "            elif pred != true:\n",
    "                false_negative += 1\n",
    "\n",
    "        elif true == 0:\n",
    "            if pred == true:\n",
    "                true_negative += 1\n",
    "            elif pred != true:\n",
    "                false_positive += 1\n",
    "            \n",
    "    accuracy=accuracy_function(true_positive, true_negative, false_positive, false_negative)\n",
    "    precision=precision_function(true_positive, false_positive)\n",
    "    recall=recall_function(true_positive, false_negative)\n",
    "    \n",
    "    return (accuracy,\n",
    "            precision,\n",
    "           recall)"
   ]
  },
  {
   "cell_type": "markdown",
   "id": "0f708139-0b42-4387-8c5c-f924a1fe67b1",
   "metadata": {},
   "source": [
    "# Accuracy of KNN"
   ]
  },
  {
   "cell_type": "code",
   "execution_count": 71,
   "id": "a4dbb2c3-24e2-440d-95e1-f89c6948d447",
   "metadata": {},
   "outputs": [],
   "source": [
    "accuracy,precision,recall=confusion_matrix(y_test,pred2)"
   ]
  },
  {
   "cell_type": "code",
   "execution_count": 72,
   "id": "64d20cf6-6e9c-46fe-bba8-1bcd6118736a",
   "metadata": {},
   "outputs": [
    {
     "data": {
      "text/plain": [
       "0.9582407818747224"
      ]
     },
     "execution_count": 72,
     "metadata": {},
     "output_type": "execute_result"
    }
   ],
   "source": [
    "accuracy"
   ]
  },
  {
   "cell_type": "markdown",
   "id": "501c4e2b-5034-48e9-be01-80b78cfa2507",
   "metadata": {},
   "source": [
    "# Accuracy of Logistics Regression"
   ]
  },
  {
   "cell_type": "code",
   "execution_count": 73,
   "id": "e7822178-2fce-47bf-b4d8-5e0de69629d1",
   "metadata": {},
   "outputs": [
    {
     "data": {
      "text/plain": [
       "0.5467199763068266"
      ]
     },
     "execution_count": 73,
     "metadata": {},
     "output_type": "execute_result"
    }
   ],
   "source": [
    "accuracy,precision,recall=confusion_matrix(y_test,pred1)\n",
    "accuracy"
   ]
  },
  {
   "cell_type": "markdown",
   "id": "2601f16b-4d7c-430c-8790-956fdc38694e",
   "metadata": {},
   "source": [
    "# Accuracy of KNN"
   ]
  },
  {
   "cell_type": "code",
   "execution_count": 74,
   "id": "7c1c221d-56f0-4ded-9a55-d3175fc2cc70",
   "metadata": {},
   "outputs": [
    {
     "data": {
      "text/plain": [
       "0.9582407818747224"
      ]
     },
     "execution_count": 74,
     "metadata": {},
     "output_type": "execute_result"
    }
   ],
   "source": [
    "accuracy,precision,recall=confusion_matrix(y_test,pred3)\n",
    "accuracy"
   ]
  },
  {
   "cell_type": "markdown",
   "id": "02aa06e5-f8cc-4444-9e59-2a0469ebf18f",
   "metadata": {},
   "source": [
    "# Accuracy of our ensemble model"
   ]
  },
  {
   "cell_type": "code",
   "execution_count": 75,
   "id": "4f63383c-327a-4ed2-be6f-c91a20ca1a7b",
   "metadata": {},
   "outputs": [
    {
     "data": {
      "text/plain": [
       "0.9604620168813861"
      ]
     },
     "execution_count": 75,
     "metadata": {},
     "output_type": "execute_result"
    }
   ],
   "source": [
    "accuracy,precision,recall=confusion_matrix(y_test,pred_final)\n",
    "accuracy"
   ]
  },
  {
   "cell_type": "markdown",
   "id": "9b0ea1ec-3033-4d0f-8db3-780fd2c8298b",
   "metadata": {},
   "source": [
    "# Accuracy of Gradient boost ensemble model"
   ]
  },
  {
   "cell_type": "code",
   "execution_count": 76,
   "id": "906076f9-dcef-488c-ac6b-3aea65fdddab",
   "metadata": {},
   "outputs": [
    {
     "data": {
      "text/plain": [
       "0.9564637938693914"
      ]
     },
     "execution_count": 76,
     "metadata": {},
     "output_type": "execute_result"
    }
   ],
   "source": [
    "accuracy,precision,recall=confusion_matrix(y_test,pred4)\n",
    "accuracy"
   ]
  },
  {
   "cell_type": "code",
   "execution_count": null,
   "id": "9edb4dec-b78f-4290-90b1-0acf067cc9fa",
   "metadata": {},
   "outputs": [],
   "source": []
  }
 ],
 "metadata": {
  "kernelspec": {
   "display_name": "Python 3 (ipykernel)",
   "language": "python",
   "name": "python3"
  },
  "language_info": {
   "codemirror_mode": {
    "name": "ipython",
    "version": 3
   },
   "file_extension": ".py",
   "mimetype": "text/x-python",
   "name": "python",
   "nbconvert_exporter": "python",
   "pygments_lexer": "ipython3",
   "version": "3.9.0"
  }
 },
 "nbformat": 4,
 "nbformat_minor": 5
}
